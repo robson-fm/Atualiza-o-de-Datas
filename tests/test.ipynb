{
 "cells": [
  {
   "cell_type": "code",
   "execution_count": 3,
   "metadata": {},
   "outputs": [
    {
     "name": "stdout",
     "output_type": "stream",
     "text": [
      "Arquivo atualizado salvo como: Atualizado_Cópia de REL_ATESTES_CYRELA_20241114 - Copia.xlsx\n"
     ]
    }
   ],
   "source": [
    "import pandas as pd\n",
    "\n",
    "# Caminho do arquivo Excel\n",
    "arquivo_excel = \"Cópia de REL_ATESTES_CYRELA_20241114 - Copia.xlsx\"\n",
    "\n",
    "# Nome das colunas a serem excluídas\n",
    "colunas_excluir = [\n",
    "    \"SIJUR - RENOVAÇÃO AUTOMÁTICA CAIXA\",\n",
    "    \"CONRES- RENOVAÇÃO AUTOMÁTICA CAIXA\",\n",
    "    \"SICOW- RENOVAÇÃO AUTOMÁTICA CAIXA\",\n",
    "    \"SIPES- RENOVAÇÃO AUTOMÁTICA CAIXA\",\n",
    "    \"CND DAU\",\n",
    "    \"CEIS\",\n",
    "    \"LAUDO DE ENGENHARIA\"\n",
    "]\n",
    "\n",
    "# Carregar a planilha\n",
    "try:\n",
    "    df = pd.read_excel(arquivo_excel)\n",
    "    \n",
    "    # Excluir as colunas\n",
    "    df = df.drop(columns=colunas_excluir, errors='ignore')\n",
    "    \n",
    "    # Salvar o arquivo atualizado\n",
    "    novo_arquivo_excel = \"Atualizado_\" + arquivo_excel\n",
    "    df.to_excel(novo_arquivo_excel, index=False)\n",
    "    print(f\"Arquivo atualizado salvo como: {novo_arquivo_excel}\")\n",
    "\n",
    "except FileNotFoundError:\n",
    "    print(\"O arquivo especificado não foi encontrado.\")\n",
    "except Exception as e:\n",
    "    print(f\"Ocorreu um erro: {e}\")\n"
   ]
  }
 ],
 "metadata": {
  "kernelspec": {
   "display_name": "Python 3",
   "language": "python",
   "name": "python3"
  },
  "language_info": {
   "codemirror_mode": {
    "name": "ipython",
    "version": 3
   },
   "file_extension": ".py",
   "mimetype": "text/x-python",
   "name": "python",
   "nbconvert_exporter": "python",
   "pygments_lexer": "ipython3",
   "version": "3.12.0"
  }
 },
 "nbformat": 4,
 "nbformat_minor": 2
}
